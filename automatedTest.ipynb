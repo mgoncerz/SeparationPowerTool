{
  "nbformat": 4,
  "nbformat_minor": 0,
  "metadata": {
    "colab": {
      "name": "Untitled3.ipynb",
      "provenance": [],
      "collapsed_sections": [],
      "authorship_tag": "ABX9TyPURWGmirCNDl3Q6N9y3m1/",
      "include_colab_link": true
    },
    "kernelspec": {
      "name": "python3",
      "display_name": "Python 3"
    }
  },
  "cells": [
    {
      "cell_type": "markdown",
      "metadata": {
        "id": "view-in-github",
        "colab_type": "text"
      },
      "source": [
        "<a href=\"https://colab.research.google.com/github/mgoncerz/SeparationPowerTool/blob/master/automatedTest.ipynb\" target=\"_parent\"><img src=\"https://colab.research.google.com/assets/colab-badge.svg\" alt=\"Open In Colab\"/></a>"
      ]
    },
    {
      "cell_type": "markdown",
      "metadata": {
        "id": "6rq3DFoI8Cxr",
        "colab_type": "text"
      },
      "source": [
        "Test settings:"
      ]
    },
    {
      "cell_type": "code",
      "metadata": {
        "id": "Q23WVXrO7nN4",
        "colab_type": "code",
        "colab": {}
      },
      "source": [
        "data_file = \"data.csv\"\n",
        "csv_delimiter = ','\n",
        "\n",
        "pearson_coeff_thresholds = [0.9, 0.8, 0.7, 0.6, 0.5, 0.4, 0.3]\n",
        "cutoff_values = [2,3,4,5,6,7,8,9,10,15,20]\n",
        "\n",
        "columns_to_skip = ['', 'has_MCParticle', 'is_downstream_reconstructible', 'has_MCParticle_not_electron', 'is_downstream_reconstructible_not_electron', 'is_true_seed', 'seed_mva_value']\n",
        "\n",
        "\n",
        "#use datarow['variable name']\n",
        "def general_selection(datarow):\n",
        "  if datarow['has_MCParticle'] == 'True' and datarow['has_MCParticle_not_electron'] == 'True':\n",
        "    return True\n",
        "  else:\n",
        "    return False\n",
        "\n",
        "def signal_definition(datarow):\n",
        "  \n",
        "  if datarow['is_downstream_reconstructible'] == 'True':\n",
        "    return True\n",
        "  else:\n",
        "    return False"
      ],
      "execution_count": 0,
      "outputs": []
    },
    {
      "cell_type": "markdown",
      "metadata": {
        "id": "s8E22CRY97Le",
        "colab_type": "text"
      },
      "source": [
        "Load data:"
      ]
    },
    {
      "cell_type": "code",
      "metadata": {
        "id": "EVX4Ppoe7_q0",
        "colab_type": "code",
        "colab": {
          "base_uri": "https://localhost:8080/",
          "height": 55
        },
        "outputId": "f1ee0c3c-863f-4e12-9563-84be02181365"
      },
      "source": [
        "from csv import DictReader\n",
        "import numpy\n",
        "\n",
        "with open(data_file, \"r\") as datafile:\n",
        "\n",
        "  datastream = DictReader(datafile)\n",
        "\n",
        "  variable_names = [name for name in datastream.fieldnames if name not in columns_to_skip]\n",
        "  signal_data = {name : [] for name in variable_names}\n",
        "  background_data = {name : [] for name in variable_names}\n",
        "  print(variable_names)\n",
        "  #read from file and split into signal and background\n",
        "  for datarow in datastream:\n",
        "\n",
        "    if general_selection(datarow):\n",
        "\n",
        "      if signal_definition(datarow):\n",
        "        for variable in variable_names:\n",
        "          signal_data[variable].append(float(datarow[variable]))\n",
        "\n",
        "      else:\n",
        "        for variable in variable_names:\n",
        "          background_data[variable].append(float(datarow[variable]))\n",
        "\n",
        "  #convert to numpy arrays and normalize\n",
        "  for variable in variable_names:\n",
        "    signal_data[variable] = numpy.array(signal_data[variable], dtype=float)\n",
        "    background_data[variable] = numpy.array(background_data[variable], dtype=float)\n",
        "\n",
        "    signal_data[variable] = (signal_data[variable] - signal_data[variable].mean()) / signal_data[variable].std()\n",
        "    background_data[variable] = (background_data[variable] - background_data[variable].mean()) / background_data[variable].std()"
      ],
      "execution_count": 19,
      "outputs": [
        {
          "output_type": "stream",
          "text": [
            "['seed_chi2PerDoF', 'seed_p', 'seed_pt', 'seed_nLHCbIDs', 'seed_nbIT', 'seed_nLayers', 'seed_x', 'seed_y', 'seed_tx', 'seed_ty']\n"
          ],
          "name": "stdout"
        }
      ]
    },
    {
      "cell_type": "markdown",
      "metadata": {
        "id": "KTX0gPQgQAMc",
        "colab_type": "text"
      },
      "source": [
        "Plot normalized data:"
      ]
    },
    {
      "cell_type": "code",
      "metadata": {
        "id": "MZT-md55QCSo",
        "colab_type": "code",
        "colab": {}
      },
      "source": [
        ""
      ],
      "execution_count": 0,
      "outputs": []
    }
  ]
}