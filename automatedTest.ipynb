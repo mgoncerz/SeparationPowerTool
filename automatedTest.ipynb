{
  "nbformat": 4,
  "nbformat_minor": 0,
  "metadata": {
    "colab": {
      "name": "Untitled3.ipynb",
      "provenance": [],
      "collapsed_sections": [],
      "authorship_tag": "ABX9TyOBLHtccyvPMn1brBKkE6Fv",
      "include_colab_link": true
    },
    "kernelspec": {
      "name": "python3",
      "display_name": "Python 3"
    }
  },
  "cells": [
    {
      "cell_type": "markdown",
      "metadata": {
        "id": "view-in-github",
        "colab_type": "text"
      },
      "source": [
        "<a href=\"https://colab.research.google.com/github/mgoncerz/SeparationPowerTool/blob/master/automatedTest.ipynb\" target=\"_parent\"><img src=\"https://colab.research.google.com/assets/colab-badge.svg\" alt=\"Open In Colab\"/></a>"
      ]
    },
    {
      "cell_type": "markdown",
      "metadata": {
        "id": "6rq3DFoI8Cxr",
        "colab_type": "text"
      },
      "source": [
        "Test settings:"
      ]
    },
    {
      "cell_type": "code",
      "metadata": {
        "id": "Q23WVXrO7nN4",
        "colab_type": "code",
        "colab": {}
      },
      "source": [
        "data_file = \"data.csv\"\n",
        "csv_delimiter = ','\n",
        "\n",
        "pearson_coeff_thresholds = [0.9, 0.8, 0.7, 0.6, 0.5, 0.4, 0.3]\n",
        "cutoff_values = [2,3,4,5,6,7,8,9,10,15,20]\n",
        "\n",
        "columns_to_skip = ['has_MCParticle', 'is_downstream_reconstructible', 'has_MCParticle_not_electron', 'is_downstream_reconstructible_not_electron', 'is_true_seed', 'seed_mva_value']\n",
        "\n",
        "#use datarow['variable name']\n",
        "def signal_definition(datarow):\n",
        "  if datarow['has_MCParticle'] == 'True' and datarow['has_MCParticle_not_electron'] == 'True':\n",
        "    if datarow['is_downstream_reconstructible']:\n",
        "      return True\n",
        "    else:\n",
        "      return False\n",
        "  else:\n",
        "    return False\n",
        "\n",
        "def background_definition(datarow):\n",
        "  if datarow['has_MCParticle'] == 'True' and datarow['has_MCParticle_not_electron'] == 'True':\n",
        "    if not datarow['is_downstream_reconstructible']:\n",
        "      return True\n",
        "    else:\n",
        "      return False\n",
        "  else:\n",
        "    return False  \n"
      ],
      "execution_count": 0,
      "outputs": []
    },
    {
      "cell_type": "markdown",
      "metadata": {
        "id": "s8E22CRY97Le",
        "colab_type": "text"
      },
      "source": [
        "Load data:"
      ]
    },
    {
      "cell_type": "code",
      "metadata": {
        "id": "EVX4Ppoe7_q0",
        "colab_type": "code",
        "colab": {}
      },
      "source": [
        "from csv import DictReader\n",
        "\n",
        "with open(data_file, \"r\") as datafile:\n",
        "\n",
        "  datastream = DictReader(datafile)"
      ],
      "execution_count": 0,
      "outputs": []
    }
  ]
}