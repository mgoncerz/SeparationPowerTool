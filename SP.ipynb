{
  "nbformat": 4,
  "nbformat_minor": 0,
  "metadata": {
    "colab": {
      "name": "Untitled1.ipynb",
      "provenance": [],
      "collapsed_sections": [],
      "authorship_tag": "ABX9TyOlm0MMsgxMVxQsKmb4RYPi",
      "include_colab_link": true
    },
    "kernelspec": {
      "name": "python3",
      "display_name": "Python 3"
    }
  },
  "cells": [
    {
      "cell_type": "markdown",
      "metadata": {
        "id": "view-in-github",
        "colab_type": "text"
      },
      "source": [
        "<a href=\"https://colab.research.google.com/github/mgoncerz/SeparationPowerTool/blob/master/SP.ipynb\" target=\"_parent\"><img src=\"https://colab.research.google.com/assets/colab-badge.svg\" alt=\"Open In Colab\"/></a>"
      ]
    },
    {
      "cell_type": "code",
      "metadata": {
        "id": "4XwrY0IbVfJf",
        "colab_type": "code",
        "colab": {}
      },
      "source": [
        "!pip install uproot"
      ],
      "execution_count": 0,
      "outputs": []
    },
    {
      "cell_type": "markdown",
      "metadata": {
        "id": "_oUAD_gMXjBb",
        "colab_type": "text"
      },
      "source": [
        "File loading:"
      ]
    },
    {
      "cell_type": "code",
      "metadata": {
        "id": "Muw5hwQwXYa4",
        "colab_type": "code",
        "colab": {}
      },
      "source": [
        "import os\n",
        "import uproot\n",
        "import numpy\n",
        "import awkward\n",
        "import dask.dataframe"
      ],
      "execution_count": 0,
      "outputs": []
    },
    {
      "cell_type": "code",
      "metadata": {
        "id": "_Q5IBjUZXlBj",
        "colab_type": "code",
        "colab": {}
      },
      "source": [
        "class FileReader:\n",
        "  filename = None\n",
        "  number_of_entries = None\n",
        "  variable_names = []\n",
        "\n",
        "  _read_function = None\n",
        "  _file = None\n",
        "\n",
        "  def __init__(self, filepath, root_treename = None, csv_delimiter = ','):\n",
        "\n",
        "    self.filename, extension = os.path.splitext(filepath)\n",
        "\n",
        "    if extension.lower() == '.root':\n",
        "\n",
        "      self._file = uproot.open(filepath)[root_treename]\n",
        "      self.variable_names = [str(branch).strip(\" b'\") for branch in self._file.keys()]\n",
        "      self.entries = self._file.numentries\n",
        "      self._read_function = self._rootGetColumn\n",
        "\n",
        "    elif extension.lower() == '.csv' or extension.lower() == '.txt':\n",
        "\n",
        "      self._file = dask.dataframe.read_csv(filepath, sep=csv_delimiter)\n",
        "      self.variable_names = list(self._file.columns)\n",
        "      self.entries = len(self._file.index)\n",
        "      self._read_function = self._csvGetColumn\n",
        "\n",
        "  def getColumn(self, name):\n",
        "    return self._read_function(name)\n",
        "\n",
        "  def _rootGetColumn(self, name):\n",
        "    return self._file[name].array().astype(float)\n",
        "\n",
        "  def _csvGetColumn(self, name):\n",
        "\n",
        "    temp = self._file[name].compute()\n",
        "\n",
        "    if temp.dtype == 'object':\n",
        "      return awkward.fromiter([[float(val) for val in el.split(' ')] for el in temp])\n",
        "    else:\n",
        "      return numpy.array(temp).astype(float, copy=False)\n",
        "\n"
      ],
      "execution_count": 0,
      "outputs": []
    },
    {
      "cell_type": "markdown",
      "metadata": {
        "id": "3eJ1nmVtZz1P",
        "colab_type": "text"
      },
      "source": [
        "Load both files here:"
      ]
    },
    {
      "cell_type": "code",
      "metadata": {
        "id": "e7_s3XykZy40",
        "colab_type": "code",
        "colab": {}
      },
      "source": [
        "file1 = FileReader(\"zbb.root\", \"Zbb\")\n",
        "file2 = FileReader(\"tt.root\", \"Zbb\")"
      ],
      "execution_count": 0,
      "outputs": []
    },
    {
      "cell_type": "markdown",
      "metadata": {
        "id": "OyfhF2YAalpI",
        "colab_type": "text"
      },
      "source": [
        "Get names of variables present in both files:"
      ]
    },
    {
      "cell_type": "code",
      "metadata": {
        "id": "y1wH9wNxarJt",
        "colab_type": "code",
        "colab": {}
      },
      "source": [
        "all_variable_names = list(set(file1.variable_names).intersection(file2.variable_names))\n",
        "print(all_variable_names)"
      ],
      "execution_count": 0,
      "outputs": []
    },
    {
      "cell_type": "markdown",
      "metadata": {
        "id": "kTl89hgrcLr5",
        "colab_type": "text"
      },
      "source": [
        "Test whether variable has single or multiple values per event:"
      ]
    },
    {
      "cell_type": "code",
      "metadata": {
        "id": "LUtU32LMcSnI",
        "colab_type": "code",
        "colab": {}
      },
      "source": [
        "def isScalarVariable(data1, data2):\n",
        "  return type(data1).__module__ == 'numpy' and data1.ndim == 1 and type(data2).__module__ == 'numpy' and data2.ndim == 1"
      ],
      "execution_count": 0,
      "outputs": []
    },
    {
      "cell_type": "markdown",
      "metadata": {
        "id": "ftDQ1waJbnWO",
        "colab_type": "text"
      },
      "source": [
        "Load data:\n"
      ]
    },
    {
      "cell_type": "code",
      "metadata": {
        "id": "oUeA1JL1bp9T",
        "colab_type": "code",
        "colab": {}
      },
      "source": [
        "variable_names = []\n",
        "variable_data1 = []\n",
        "variable_data2 = []\n",
        "\n",
        "for variable in all_variable_names:\n",
        "  try:\n",
        "    data1 = file1.getColumn(variable)\n",
        "    data2 = file2.getColumn(variable)\n",
        "  except:\n",
        "    continue\n",
        "\n",
        "  \n",
        "  if isScalarVariable(data1, data2):\n",
        "\n",
        "    #remove NaNs\n",
        "    data1 = data1[~numpy.isnan(data1)]\n",
        "    data2 = data2[~numpy.isnan(data2)]\n",
        "\n",
        "    if data1.size == 0 or data2.size == 0:\n",
        "      continue    \n",
        "\n",
        "    variable_names.append(variable)\n",
        "    variable_data1.append(data1)\n",
        "    variable_data2.append(data2)\n",
        "\n",
        "  else: #flatten data\n",
        "    \n",
        "    data1_flat = numpy.concatenate(data1).ravel()\n",
        "    data2_flat = numpy.concatenate(data2).ravel()\n",
        "\n",
        "    #remove NaNs\n",
        "    data1_flat = data1_flat[~numpy.isnan(data1_flat)]\n",
        "    data2_flat = data2_flat[~numpy.isnan(data2_flat)]\n",
        "    \n",
        "    if data1_flat.size == 0 or data2_flat.size == 0:\n",
        "      continue  \n",
        "\n",
        "    variable_names.append(variable)\n",
        "    variable_data1.append(data1_flat)\n",
        "    variable_data2.append(data2_flat)\n",
        "\n"
      ],
      "execution_count": 0,
      "outputs": []
    },
    {
      "cell_type": "markdown",
      "metadata": {
        "id": "iPs-Lbv2p1T9",
        "colab_type": "text"
      },
      "source": [
        "Plot input data:"
      ]
    },
    {
      "cell_type": "code",
      "metadata": {
        "id": "EQBv3-Hwp3Ji",
        "colab_type": "code",
        "colab": {}
      },
      "source": [
        "import matplotlib.pyplot as plt\n",
        "import seaborn\n",
        "import math\n",
        "\n",
        "nrows = math.floor(math.sqrt(len(variable_data1)))\n",
        "ncols = math.ceil(len(variable_data1) / nrows)\n",
        "\n",
        "f, ax = plt.subplots(figsize=(50,50))\n",
        "for index, [variable, data1, data2] in enumerate(zip(variable_names, variable_data1, variable_data2)):\n",
        "  f.add_subplot(nrows, ncols, index + 1)\n",
        "  seaborn.distplot(data1, kde=False, norm_hist = True).set_title(variable)\n",
        "  seaborn.distplot(data2, kde=False, norm_hist = True).set_title(variable)\n"
      ],
      "execution_count": 0,
      "outputs": []
    },
    {
      "cell_type": "markdown",
      "metadata": {
        "id": "mxx1TxBfgcdA",
        "colab_type": "text"
      },
      "source": [
        "Normalize and calculate separation:"
      ]
    },
    {
      "cell_type": "code",
      "metadata": {
        "id": "zRGwQiZagfJq",
        "colab_type": "code",
        "colab": {}
      },
      "source": [
        "variable_data1_normalized = []\n",
        "variable_data2_normalized = []\n",
        "\n",
        "for variable, data1, data2 in zip(variable_names, variable_data1, variable_data2):\n",
        "\n",
        "  minimum = min(data1.min(), data2.min())\n",
        "  maximum = max(data1.max(), data2.max())\n",
        "  \n",
        "  diff = maximum - minimum\n",
        "  if diff:\n",
        "    diffinv = 1/diff\n",
        "  else:\n",
        "    diffinv = 1\n",
        "\n",
        "  variable_data1_normalized.append((data1 - minimum)*diffinv)\n",
        "  variable_data2_normalized.append((data2 - minimum)*diffinv)\n",
        "  "
      ],
      "execution_count": 0,
      "outputs": []
    },
    {
      "cell_type": "markdown",
      "metadata": {
        "id": "Hv6PTaFyuKea",
        "colab_type": "text"
      },
      "source": [
        "Plot normalized data:"
      ]
    },
    {
      "cell_type": "code",
      "metadata": {
        "id": "lHTbB2WHuMK4",
        "colab_type": "code",
        "colab": {}
      },
      "source": [
        "f, ax = plt.subplots(figsize=(50,50))\n",
        "for index, [variable, data1, data2] in enumerate(zip(variable_names, variable_data1_normalized, variable_data2_normalized)):\n",
        "  f.add_subplot(nrows, ncols, index + 1)\n",
        "  seaborn.distplot(data1, kde=False, norm_hist = True).set_title(variable)\n",
        "  seaborn.distplot(data2, kde=False, norm_hist = True).set_title(variable)"
      ],
      "execution_count": 0,
      "outputs": []
    },
    {
      "cell_type": "markdown",
      "metadata": {
        "id": "yHSDbWXfvda2",
        "colab_type": "text"
      },
      "source": [
        "Calculate separation:"
      ]
    },
    {
      "cell_type": "code",
      "metadata": {
        "id": "0nxjm_S7vfAS",
        "colab_type": "code",
        "colab": {}
      },
      "source": [
        "separation_values = []\n",
        "\n",
        "for variable, data1, data2 in zip(variable_names, variable_data1_normalized, variable_data2_normalized):\n",
        "\n",
        "  bincontent1, _ = numpy.histogram(data1, 100, range=[0,1])\n",
        "  bincontent2, _ = numpy.histogram(data2, 100, range=[0,1])\n",
        "\n",
        "  bincontent1_normalized = bincontent1 / sum(bincontent1)\n",
        "  bincontent2_normalized = bincontent2 / sum(bincontent2)\n",
        "\n",
        "  separation_values.append(round(100*0.5*sum(map(abs, bincontent1_normalized - bincontent2_normalized)), 2))\n"
      ],
      "execution_count": 0,
      "outputs": []
    },
    {
      "cell_type": "markdown",
      "metadata": {
        "id": "htAWKnIIw6tT",
        "colab_type": "text"
      },
      "source": [
        "Sort everything by separation value:"
      ]
    },
    {
      "cell_type": "code",
      "metadata": {
        "id": "xhxZ444aw9_I",
        "colab_type": "code",
        "colab": {}
      },
      "source": [
        "\n",
        "separation_values_sorted, variable_names_sorted, variable_data1_sorted, variable_data2_sorted, variable_data1_normalized_sorted, variable_data2_normalized_sorted = \\\n",
        "zip(*sorted(zip(separation_values, variable_names, variable_data1, variable_data2, variable_data1_normalized, variable_data2_normalized), key=lambda x: x[0], reverse=True))"
      ],
      "execution_count": 0,
      "outputs": []
    },
    {
      "cell_type": "markdown",
      "metadata": {
        "id": "S6hqRctzx0WV",
        "colab_type": "text"
      },
      "source": [
        "Print variables sorted by separation:"
      ]
    },
    {
      "cell_type": "code",
      "metadata": {
        "id": "5rVzwZH8x37o",
        "colab_type": "code",
        "colab": {}
      },
      "source": [
        "for separation, name in zip(separation_values_sorted, variable_names_sorted):\n",
        "  print([separation, name])"
      ],
      "execution_count": 0,
      "outputs": []
    },
    {
      "cell_type": "markdown",
      "metadata": {
        "id": "xCS4wk4Wh9lq",
        "colab_type": "text"
      },
      "source": [
        "Perform basic optimization:"
      ]
    },
    {
      "cell_type": "markdown",
      "metadata": {
        "id": "pSt5qoP7ngmQ",
        "colab_type": "text"
      },
      "source": [
        "1. Remove variables with separation below threshold:"
      ]
    },
    {
      "cell_type": "code",
      "metadata": {
        "id": "7MqEJKK9nmx8",
        "colab_type": "code",
        "colab": {}
      },
      "source": [
        "SEPARATION_THRESHOLD = 50"
      ],
      "execution_count": 0,
      "outputs": []
    },
    {
      "cell_type": "code",
      "metadata": {
        "id": "-LdfDGuXnrh5",
        "colab_type": "code",
        "colab": {}
      },
      "source": [
        "separation_values_below_threshold, variable_names_below_threshold, variable_data1_below_threshold, variable_data2_below_threshold, variable_data1_normalized_below_threshold, variable_data2_normalized_below_threshold = \\\n",
        "zip(*filter(lambda x: x[0] > SEPARATION_THRESHOLD, zip(separation_values_sorted, variable_names_sorted, variable_data1_sorted, variable_data2_sorted, variable_data1_normalized_sorted, variable_data2_normalized_sorted)))"
      ],
      "execution_count": 0,
      "outputs": []
    },
    {
      "cell_type": "code",
      "metadata": {
        "id": "tQ4Yp-JvoZZx",
        "colab_type": "code",
        "colab": {}
      },
      "source": [
        "for separation, name in zip(separation_values_below_threshold, variable_names_below_threshold):\n",
        "  print([separation, name])"
      ],
      "execution_count": 0,
      "outputs": []
    },
    {
      "cell_type": "markdown",
      "metadata": {
        "id": "QvQQEpRViY2J",
        "colab_type": "text"
      },
      "source": [
        "2. Calculate linear correlation coefficients for both samples:"
      ]
    },
    {
      "cell_type": "code",
      "metadata": {
        "id": "PUBD99oaidP8",
        "colab_type": "code",
        "colab": {}
      },
      "source": [
        "correlation_matrix1 = numpy.corrcoef(variable_data1_normalized_below_threshold)\n",
        "correlation_matrix2 = numpy.corrcoef(variable_data2_normalized_below_threshold)\n"
      ],
      "execution_count": 0,
      "outputs": []
    },
    {
      "cell_type": "code",
      "metadata": {
        "id": "L4hrPmJ2l-K6",
        "colab_type": "code",
        "colab": {}
      },
      "source": [
        "mask = numpy.triu(numpy.ones_like(correlation_matrix1, dtype=numpy.bool))\n",
        "cmap = seaborn.diverging_palette(10, 220, as_cmap=True)\n"
      ],
      "execution_count": 0,
      "outputs": []
    },
    {
      "cell_type": "code",
      "metadata": {
        "id": "OjS98nixqQqD",
        "colab_type": "code",
        "colab": {}
      },
      "source": [
        "f, ax = plt.subplots(figsize=(20, 20))\n",
        "seaborn.heatmap(correlation_matrix1, mask=mask, cmap=cmap, vmax=1, vmin=-1, center=0, square=True, linewidths=.5, cbar_kws={\"shrink\": .5}, xticklabels = variable_names_below_threshold, yticklabels = variable_names_below_threshold)"
      ],
      "execution_count": 0,
      "outputs": []
    },
    {
      "cell_type": "code",
      "metadata": {
        "id": "pPF7xhL7qU4h",
        "colab_type": "code",
        "colab": {}
      },
      "source": [
        "f, ax = plt.subplots(figsize=(20, 20))\n",
        "seaborn.heatmap(correlation_matrix2, mask=mask, cmap=cmap, vmax=1, vmin=-1, center=0, square=True, linewidths=.5, cbar_kws={\"shrink\": .5}, xticklabels = variable_names_below_threshold, yticklabels = variable_names_below_threshold)"
      ],
      "execution_count": 0,
      "outputs": []
    },
    {
      "cell_type": "markdown",
      "metadata": {
        "id": "4QgbT_zOrWy_",
        "colab_type": "text"
      },
      "source": [
        "3. Reduce the number of variables based on their linear correlation:"
      ]
    },
    {
      "cell_type": "code",
      "metadata": {
        "id": "6k8dwJgJrb-c",
        "colab_type": "code",
        "colab": {}
      },
      "source": [
        "DESIRED_NUMBER_OF_VARIABLES = 10\n",
        "MAX_PEARSON_COEFFICIENT = 0.5"
      ],
      "execution_count": 0,
      "outputs": []
    },
    {
      "cell_type": "code",
      "metadata": {
        "id": "yjFQEjWduPVo",
        "colab_type": "code",
        "colab": {}
      },
      "source": [
        "def getCorrelatedIndicesInRange(separation_indexed, correlation_matrix1, correlation_matrix2, DESIRED_NUMBER_OF_VARIABLES, MAX_PEARSON_COEFFICIENT):\n",
        "\n",
        "  no_correlations_found = True\n",
        "  correlated_indices = []\n",
        "\n",
        "  #metrics are sorted descending, we go through them backwards starting at the number of desired variables (from lowest to highest separation)\n",
        "  for list_index1, [global_index1, _] in reversed(list(enumerate(separation_indexed[:DESIRED_NUMBER_OF_VARIABLES]))):\n",
        "\n",
        "    #for each variable we loop through the variables with higher separation\n",
        "    for global_index2, _ in separation_indexed[:list_index1]:\n",
        "      \n",
        "      if math.fabs(correlation_matrix1[global_index1][global_index2]) > MAX_PEARSON_COEFFICIENT or math.fabs(correlation_matrix2[global_index1][global_index2]) > MAX_PEARSON_COEFFICIENT:\n",
        "\n",
        "        correlated_indices.append(global_index1)\n",
        "        no_correlations_found = False\n",
        "        del separation_indexed[list_index1] #remove the correlated variable with lower separation, safe because we're moving in a reversed order\n",
        "        break\n",
        "        \n",
        "  return no_correlations_found, correlated_indices"
      ],
      "execution_count": 0,
      "outputs": []
    },
    {
      "cell_type": "code",
      "metadata": {
        "id": "EG03n0NatJMl",
        "colab_type": "code",
        "colab": {}
      },
      "source": [
        "indices_rejected_by_correlation = []\n",
        "indices_rejected_to_limit_variables = []\n",
        "\n",
        "separation_indexed = list(enumerate(separation_values_below_threshold))\n",
        "\n",
        "if DESIRED_NUMBER_OF_VARIABLES != -1 and len(separation_indexed) > DESIRED_NUMBER_OF_VARIABLES:\n",
        "\n",
        "  while len(separation_indexed) > DESIRED_NUMBER_OF_VARIABLES:\n",
        "\n",
        "    no_correlations_found, correlated_indices = getCorrelatedIndicesInRange(separation_indexed, correlation_matrix1, correlation_matrix2, DESIRED_NUMBER_OF_VARIABLES, MAX_PEARSON_COEFFICIENT)\n",
        "    indices_rejected_by_correlation += correlated_indices\n",
        "\n",
        "    if no_correlations_found:\n",
        "      indices_rejected_to_limit_variables = [global_index for global_index, _ in separation_indexed[DESIRED_NUMBER_OF_VARIABLES:]]\n",
        "      break\n",
        "\n",
        "  if not no_correlations_found:\n",
        "    _, correlated_indices = getCorrelatedIndicesInRange(separation_indexed, correlation_matrix1, correlation_matrix2, len(separation_indexed), MAX_PEARSON_COEFFICIENT)\n",
        "    indices_rejected_by_correlation += correlated_indices\n",
        "else:\n",
        "\n",
        "  _, indices_rejected_by_correlation = getCorrelatedIndicesInRange(separation_indexed, correlation_matrix1, correlation_matrix2, len(separation_indexed), MAX_PEARSON_COEFFICIENT)"
      ],
      "execution_count": 0,
      "outputs": []
    },
    {
      "cell_type": "code",
      "metadata": {
        "id": "T9DK-jv711vD",
        "colab_type": "code",
        "colab": {}
      },
      "source": [
        "print('Rejected for correlation:')\n",
        "for index in indices_rejected_by_correlation:\n",
        "  print(variable_names_below_threshold[index])\n",
        "\n",
        "print('')\n",
        "print('')\n",
        "\n",
        "print('Rejected to limit variables:')\n",
        "for index in indices_rejected_to_limit_variables:\n",
        "  print(variable_names_below_threshold[index])  "
      ],
      "execution_count": 0,
      "outputs": []
    },
    {
      "cell_type": "code",
      "metadata": {
        "id": "eCOvFS3PYAoD",
        "colab_type": "code",
        "colab": {}
      },
      "source": [
        "_, separation_values_optimized, variable_names_optimized, variable_data1_optimized, variable_data2_optimized, variable_data1_normalized_optimized, variable_data2_normalized_optimized = \\\n",
        "zip(*filter(lambda x: x[0] not in indices_rejected_by_correlation and x[0] not in indices_rejected_to_limit_variables, zip(range(len(separation_values_below_threshold)), separation_values_below_threshold, variable_names_below_threshold, variable_data1_below_threshold, variable_data2_below_threshold, variable_data1_normalized_below_threshold, variable_data2_normalized_below_threshold)))"
      ],
      "execution_count": 0,
      "outputs": []
    },
    {
      "cell_type": "code",
      "metadata": {
        "id": "e1cv4u8xYZFD",
        "colab_type": "code",
        "colab": {}
      },
      "source": [
        "for separation, name in zip(separation_values_optimized, variable_names_optimized):\n",
        "  print([separation, name])"
      ],
      "execution_count": 0,
      "outputs": []
    },
    {
      "cell_type": "code",
      "metadata": {
        "id": "jLqGmRz0fMyW",
        "colab_type": "code",
        "colab": {}
      },
      "source": [
        "correlation_matrix1_optimized = numpy.corrcoef(variable_data1_normalized_optimized)\n",
        "correlation_matrix2_optimized = numpy.corrcoef(variable_data2_normalized_optimized)"
      ],
      "execution_count": 0,
      "outputs": []
    },
    {
      "cell_type": "code",
      "metadata": {
        "id": "3nO2qEQ-fh4Y",
        "colab_type": "code",
        "colab": {}
      },
      "source": [
        "mask_optimized = numpy.triu(numpy.ones_like(correlation_matrix1_optimized, dtype=numpy.bool))"
      ],
      "execution_count": 0,
      "outputs": []
    },
    {
      "cell_type": "code",
      "metadata": {
        "id": "PIh_kPbyfVy7",
        "colab_type": "code",
        "colab": {}
      },
      "source": [
        "f, ax = plt.subplots(figsize=(20, 20))\n",
        "seaborn.heatmap(correlation_matrix1_optimized, mask=mask_optimized, cmap=cmap, annot=correlation_matrix1_optimized, vmax=1, vmin=-1, center=0, square=True, linewidths=.5, cbar_kws={\"shrink\": .5}, xticklabels = variable_names_optimized, yticklabels = variable_names_optimized)"
      ],
      "execution_count": 0,
      "outputs": []
    },
    {
      "cell_type": "code",
      "metadata": {
        "id": "a-dDf5Pqfar_",
        "colab_type": "code",
        "colab": {}
      },
      "source": [
        "f, ax = plt.subplots(figsize=(20, 20))\n",
        "seaborn.heatmap(correlation_matrix2_optimized, mask=mask_optimized, cmap=cmap, annot=correlation_matrix2_optimized, vmax=1, vmin=-1, center=0, square=True, linewidths=.5, cbar_kws={\"shrink\": .5}, xticklabels = variable_names_optimized, yticklabels = variable_names_optimized)"
      ],
      "execution_count": 0,
      "outputs": []
    }
  ]
}