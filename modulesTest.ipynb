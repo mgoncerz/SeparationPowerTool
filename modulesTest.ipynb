{
 "nbformat": 4,
 "nbformat_minor": 2,
 "metadata": {
  "language_info": {
   "name": "python",
   "codemirror_mode": {
    "name": "ipython",
    "version": 3
   },
   "version": "3.8.0-final"
  },
  "orig_nbformat": 2,
  "file_extension": ".py",
  "mimetype": "text/x-python",
  "name": "python",
  "npconvert_exporter": "python",
  "pygments_lexer": "ipython3",
  "version": 3,
  "kernelspec": {
   "name": "python38032bit58d6544dac754d8a9b5470078f5a9588",
   "display_name": "Python 3.8.0 32-bit"
  }
 },
 "cells": [
  {
   "cell_type": "code",
   "execution_count": 1,
   "metadata": {},
   "outputs": [],
   "source": [
    "import pandas\n",
    "import math\n",
    "\n",
    "from SPTools import generateVariableSets, printVariableSets"
   ]
  },
  {
   "cell_type": "code",
   "execution_count": 2,
   "metadata": {},
   "outputs": [],
   "source": [
    "data = pandas.read_csv('data.csv', nrows=100000)\n",
    "data = data[data.apply(lambda row: row['has_MCParticle'] and row['has_MCParticle_not_electron'], axis=1)]\n",
    "\n",
    "data['seed_p_log'] = data.apply(lambda row: math.log(float(row['seed_p'])), axis=1)\n",
    "data['seed_pt_log'] = data.apply(lambda row: math.log(float(row['seed_pt'])), axis=1)\n",
    "data['seed_r'] = data.apply(lambda row: math.sqrt(float(row['seed_x']) * float(row['seed_x']) + float(row['seed_y']) * float(row['seed_y'])), axis=1)\n",
    "data['seed_angle'] = data.apply(lambda row: math.atan(float(row['seed_y']) / float(row['seed_x'])), axis=1)\n",
    "data['seed_pseudorapidity'] = data.apply(lambda row: math.atanh(float(row['seed_pt']) / float(row['seed_p'])), axis=1)"
   ]
  },
  {
   "cell_type": "code",
   "execution_count": 3,
   "metadata": {},
   "outputs": [],
   "source": [
    "variables_to_use = ['seed_nLHCbIDs', 'seed_nbIT', 'seed_nLayers', 'seed_x', 'seed_y', 'seed_tx', 'seed_ty', 'seed_mva_value', 'seed_p_log', 'seed_pt_log', 'seed_r', 'seed_angle', 'seed_pseudorapidity']\n",
    "\n",
    "signal_data = data[data.apply(lambda row: row['is_downstream_reconstructible'], axis=1)][variables_to_use]\n",
    "\n",
    "background_data = data[data.apply(lambda row: not row['is_downstream_reconstructible'], axis=1)][variables_to_use]"
   ]
  },
  {
   "cell_type": "code",
   "execution_count": 4,
   "metadata": {},
   "outputs": [],
   "source": [
    "variable_sets = generateVariableSets(signal_data, background_data, verbose=False)"
   ]
  },
  {
   "cell_type": "code",
   "execution_count": 5,
   "metadata": {},
   "outputs": [
    {
     "name": "stdout",
     "output_type": "stream",
     "text": "Full list of variables:\n[100.0, 'seed_nLayers']\n[99.88, 'seed_nbIT']\n[99.19, 'seed_nLHCbIDs']\n[63.94, 'seed_mva_value']\n[33.36, 'seed_r']\n[32.01, 'seed_y']\n[28.9, 'seed_ty']\n[24.12, 'seed_pseudorapidity']\n[20.04, 'seed_x']\n[19.78, 'seed_angle']\n[19.16, 'seed_tx']\n[15.26, 'seed_pt_log']\n[11.4, 'seed_p_log']\n\n\nVariable sets:\n\n['pearson threshold', 1.0]\n['cutoff value', 0]\n['number of variables', 13]\n['variables:']\n[100.0, 'seed_nLayers']\n[99.88, 'seed_nbIT']\n[99.19, 'seed_nLHCbIDs']\n[63.94, 'seed_mva_value']\n[33.36, 'seed_r']\n[32.01, 'seed_y']\n[28.9, 'seed_ty']\n[24.12, 'seed_pseudorapidity']\n[20.04, 'seed_x']\n[19.78, 'seed_angle']\n[19.16, 'seed_tx']\n[15.26, 'seed_pt_log']\n[11.4, 'seed_p_log']\n\n\n\n['pearson threshold', 0.6]\n['cutoff value', 14]\n['number of variables', 7]\n['variables:']\n[100.0, 'seed_nLayers']\n[99.88, 'seed_nbIT']\n[63.94, 'seed_mva_value']\n[32.01, 'seed_y']\n[20.04, 'seed_x']\n[19.78, 'seed_angle']\n[15.26, 'seed_pt_log']\n\n\n\n['pearson threshold', 0.6]\n['cutoff value', 18]\n['number of variables', 6]\n['variables:']\n[100.0, 'seed_nLayers']\n[99.88, 'seed_nbIT']\n[63.94, 'seed_mva_value']\n[32.01, 'seed_y']\n[20.04, 'seed_x']\n[19.78, 'seed_angle']\n\n\n\n['pearson threshold', 0.1]\n['cutoff value', 18]\n['number of variables', 5]\n['variables:']\n[100.0, 'seed_nLayers']\n[99.88, 'seed_nbIT']\n[32.01, 'seed_y']\n[20.04, 'seed_x']\n[19.78, 'seed_angle']\n\n\n\n['pearson threshold', 0.6]\n['cutoff value', 20]\n['number of variables', 5]\n['variables:']\n[100.0, 'seed_nLayers']\n[99.88, 'seed_nbIT']\n[63.94, 'seed_mva_value']\n[32.01, 'seed_y']\n[20.04, 'seed_x']\n\n\n\n['pearson threshold', 0.1]\n['cutoff value', 20]\n['number of variables', 4]\n['variables:']\n[100.0, 'seed_nLayers']\n[99.88, 'seed_nbIT']\n[32.01, 'seed_y']\n[20.04, 'seed_x']\n\n\n\n['pearson threshold', 0.6]\n['cutoff value', 32]\n['number of variables', 4]\n['variables:']\n[100.0, 'seed_nLayers']\n[99.88, 'seed_nbIT']\n[63.94, 'seed_mva_value']\n[32.01, 'seed_y']\n\n\n\n['pearson threshold', 0.1]\n['cutoff value', 32]\n['number of variables', 3]\n['variables:']\n[100.0, 'seed_nLayers']\n[99.88, 'seed_nbIT']\n[32.01, 'seed_y']\n\n\n\n['pearson threshold', 0.6]\n['cutoff value', 58]\n['number of variables', 3]\n['variables:']\n[100.0, 'seed_nLayers']\n[99.88, 'seed_nbIT']\n[63.94, 'seed_mva_value']\n\n\n\n['pearson threshold', 0.1]\n['cutoff value', 58]\n['number of variables', 2]\n['variables:']\n[100.0, 'seed_nLayers']\n[99.88, 'seed_nbIT']\n\n\n\n"
    }
   ],
   "source": [
    "printVariableSets(variable_sets)"
   ]
  }
 ]
}